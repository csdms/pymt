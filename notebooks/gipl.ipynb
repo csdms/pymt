{
 "cells": [
  {
   "cell_type": "markdown",
   "metadata": {},
   "source": [
    "### Basic use of the GIPL model\n",
    "\n",
    "Before you begin, install:\n",
    "\n",
    "```conda install -c conda-forge pymt pymt_gipl seaborn```\n",
    "\n",
    "\n",
    "**GIPL** (Geophysical Institute Permafrost Laboratory) is an implicit finite difference one-dimensional heat flow numerical model. \n",
    "\n",
    "\\begin{equation}\n",
    "\\frac{\\partial H(x, t)}{\\partial \\tau}=\\frac{\\partial}{\\partial x}\\left(k(x, t) \\frac{\\partial t(x, \\tau)}{\\partial x}\\right)\n",
    "\\end{equation}\n",
    "\n",
    "The model uses fine vertical resolution grid which preserves the latent-heat effects in the phase transition zone, even under conditions of rapid or abrupt changes in the temperature fields. It includes upper boundary condition (usually air temperature), constant geothermal heat flux at the lower boundary, and initial temperature distribution with depth. The other inputs are snow depth, snow thermal conductivity, etc. The core output is temperature distributions at different depths.\n",
    "\n",
    "**References**\n",
    "\n",
    "Marchenko, S., Romanovsky, V., & Tipenko, G. (2008, June). Numerical modeling of spatial permafrost dynamics in Alaska. In Proceedings of the ninth international conference on permafrost (Vol. 29, pp. 1125-1130). Institute of Northern Engineering, University of Alaska Fairbanks.\n",
    "\n",
    "Jafarov, E. E., Marchenko, S. S., and Romanovsky, V. E.: Numerical modeling of permafrost dynamics in Alaska using a high spatial resolution dataset, The Cryosphere, 6, 613-624, https://doi.org/10.5194/tc-6-613-2012, 2012."
   ]
  },
  {
   "cell_type": "markdown",
   "metadata": {},
   "source": [
    "----------------\n",
    "Some libs should be imported.\n",
    "\n",
    "**pymt.models** is required.\n",
    "\n",
    "**others** are used for implementing and plotting"
   ]
  },
  {
   "cell_type": "code",
   "execution_count": null,
   "metadata": {},
   "outputs": [],
   "source": [
    "import pymt.models\n",
    "import matplotlib.pyplot as plt\n",
    "import seaborn as sns\n",
    "import numpy as np\n",
    "import matplotlib.colors as mcolors\n",
    "from matplotlib.colors import LinearSegmentedColormap\n",
    "\n",
    "sns.set(style=\"whitegrid\", font_scale=1.2)"
   ]
  },
  {
   "cell_type": "markdown",
   "metadata": {},
   "source": [
    "**Import the GIPL model**"
   ]
  },
  {
   "cell_type": "code",
   "execution_count": null,
   "metadata": {},
   "outputs": [],
   "source": [
    "gipl = pymt.models.GIPL()\n",
    "gipl.name"
   ]
  },
  {
   "cell_type": "markdown",
   "metadata": {},
   "source": [
    "Call the setup method to provide a default GIPL configuration file."
   ]
  },
  {
   "cell_type": "code",
   "execution_count": null,
   "metadata": {},
   "outputs": [],
   "source": [
    "defaults = gipl.setup(\".\")\n",
    "print(defaults)"
   ]
  },
  {
   "cell_type": "markdown",
   "metadata": {},
   "source": [
    "**Initialze the model**"
   ]
  },
  {
   "cell_type": "code",
   "execution_count": null,
   "metadata": {},
   "outputs": [],
   "source": [
    "gipl.initialize(\"gipl_config.cfg\")"
   ]
  },
  {
   "cell_type": "markdown",
   "metadata": {},
   "source": [
    "**Get the soil depth in the model**\n",
    "\n",
    "It is used for plotting."
   ]
  },
  {
   "cell_type": "code",
   "execution_count": null,
   "metadata": {},
   "outputs": [],
   "source": [
    "# List input and output variable names.\n",
    "print(gipl.output_var_names)\n",
    "print(gipl.input_var_names)\n",
    "\n",
    "# Get soil depth: [unit: m]\n",
    "depth = gipl.get_grid_z(2)\n",
    "n_depth = int(len(depth))"
   ]
  },
  {
   "cell_type": "markdown",
   "metadata": {},
   "source": [
    "**Get the length of forcing data**"
   ]
  },
  {
   "cell_type": "code",
   "execution_count": null,
   "metadata": {},
   "outputs": [],
   "source": [
    "# Get the length of forcing data\n",
    "ntime = int(gipl.end_time)\n",
    "\n",
    "# Define a variable to store soil temperature through the time period\n",
    "\n",
    "tsoil = np.zeros((n_depth, ntime)) * np.nan\n",
    "\n",
    "print(\"Final soil temperatures will be \", tsoil.shape)"
   ]
  },
  {
   "cell_type": "markdown",
   "metadata": {},
   "source": [
    "**Run the model and plot the results**"
   ]
  },
  {
   "cell_type": "code",
   "execution_count": null,
   "metadata": {},
   "outputs": [],
   "source": [
    "fig = plt.figure(figsize=[10, 4.5])\n",
    "ax = fig.add_subplot(1, 2, 1)\n",
    "plt.ylim([15, 0])\n",
    "plt.xlim([-20, 20])\n",
    "plt.xlabel(\"Soil Temperature ($^oC$)\")\n",
    "plt.ylabel(\"Depth (m)\")\n",
    "plt.plot([0, 0], [15, 0], \"k--\")\n",
    "\n",
    "for i in np.arange(int(ntime)):\n",
    "    gipl.update()  # Update Once\n",
    "    tsoil[:, i] = gipl.get_value(\n",
    "        \"soil__temperature\"\n",
    "    )  # save all temperature to a matrix\n",
    "    plt.plot(\n",
    "        tsoil[depth >= 0, i], depth[depth >= 0], color=[0.7, 0.7, 0.7], alpha=0.1\n",
    "    )  # plot result of each time\n",
    "\n",
    "plt.plot(\n",
    "    tsoil[depth >= 0, :].max(axis=1), depth[depth >= 0], \"r\", linewidth=2, label=\"Max\"\n",
    ")  # Max\n",
    "plt.plot(\n",
    "    tsoil[depth >= 0, :].min(axis=1), depth[depth >= 0], \"b\", linewidth=2, label=\"Min\"\n",
    ")  # Min\n",
    "plt.plot(\n",
    "    tsoil[depth >= 0, :].mean(axis=1), depth[depth >= 0], \"k\", linewidth=2, label=\"Mean\"\n",
    ")  # Mean\n",
    "plt.legend()\n",
    "plt.title(\n",
    "    \"ALT=\"\n",
    "    + str(depth[depth >= 0][np.argmin(np.abs(tsoil[depth >= 0, :].max(axis=1)))])\n",
    "    + \"m\"\n",
    ")\n",
    "\n",
    "ax2 = fig.add_subplot(1, 2, 2)\n",
    "ax2.plot(tsoil[40, :], color=\"k\", alpha=0.7)\n",
    "plt.title(\"Soil Surface (0.0m)\")"
   ]
  },
  {
   "cell_type": "code",
   "execution_count": null,
   "metadata": {},
   "outputs": [],
   "source": [
    "fig = plt.figure(figsize=[9, 4])\n",
    "divnorm = mcolors.TwoSlopeNorm(vmin=-25.0, vcenter=0.0, vmax=10)\n",
    "plt.contourf(\n",
    "    np.arange(ntime),\n",
    "    depth,\n",
    "    tsoil,\n",
    "    np.linspace(-25, 10, 15),\n",
    "    norm=divnorm,\n",
    "    cmap=\"RdBu_r\",\n",
    "    extend=\"both\",\n",
    ")\n",
    "\n",
    "plt.ylim([5, 0])\n",
    "cb = plt.colorbar()\n",
    "plt.xlabel(\"Day\")\n",
    "plt.ylabel(\"Depth (m)\")\n",
    "cb.ax.set_ylabel(\"Soil Temperature ($^oC$)\")\n",
    "\n",
    "plt.contour(np.arange(ntime), depth, tsoil, [0])  # ZERO"
   ]
  },
  {
   "cell_type": "markdown",
   "metadata": {},
   "source": [
    "----------\n",
    "### Try to simulate a warming (10%) of air temperature on the permafrost"
   ]
  },
  {
   "cell_type": "code",
   "execution_count": null,
   "metadata": {},
   "outputs": [],
   "source": [
    "gipl.initialize(\"gipl_config.cfg\")\n",
    "fig = plt.figure(figsize=[5, 8])\n",
    "plt.ylim([15, 0])\n",
    "plt.xlim([-20, 20])\n",
    "plt.xlabel(\"Soil Temperature ($^oC$)\")\n",
    "plt.ylabel(\"Depth (m)\")\n",
    "plt.plot([0, 0], [15, 0], \"k--\")\n",
    "\n",
    "for i in np.arange(int(ntime)):\n",
    "    tair_raw = gipl.get_value(\"land_surface_air__temperature\")\n",
    "    gipl.set_value(\"land_surface_air__temperature\", tair_raw + abs(tair_raw) * 0.1)\n",
    "    gipl.update()\n",
    "    tsoil[:, i] = gipl.get_value(\"soil__temperature\")\n",
    "    plt.plot(tsoil[depth >= 0, i], depth[depth >= 0], color=[0.7, 0.7, 0.7], alpha=0.1)\n",
    "\n",
    "plt.plot(\n",
    "    tsoil[depth >= 0, :].max(axis=1), depth[depth >= 0], \"r\", linewidth=2, label=\"Max\"\n",
    ")\n",
    "plt.plot(\n",
    "    tsoil[depth >= 0, :].min(axis=1), depth[depth >= 0], \"b\", linewidth=2, label=\"Min\"\n",
    ")\n",
    "plt.plot(\n",
    "    tsoil[depth >= 0, :].mean(axis=1), depth[depth >= 0], \"k\", linewidth=2, label=\"Mean\"\n",
    ")\n",
    "plt.legend()"
   ]
  },
  {
   "cell_type": "code",
   "execution_count": null,
   "metadata": {},
   "outputs": [],
   "source": []
  }
 ],
 "metadata": {
  "kernelspec": {
   "display_name": "Python 3",
   "language": "python",
   "name": "python3"
  },
  "language_info": {
   "codemirror_mode": {
    "name": "ipython",
    "version": 3
   },
   "file_extension": ".py",
   "mimetype": "text/x-python",
   "name": "python",
   "nbconvert_exporter": "python",
   "pygments_lexer": "ipython3",
   "version": "3.9.1"
  }
 },
 "nbformat": 4,
 "nbformat_minor": 2
}
