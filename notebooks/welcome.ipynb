{
 "cells": [
  {
   "cell_type": "markdown",
   "metadata": {},
   "source": [
    "# Welcome to Pymt demo Notebooks\n",
    "\n",
    "This page provides links to notebooks that provide an introduction to Pymt and its use for different models. \n",
    "\n",
    "  * [Coastline Evolution Model](cem.ipynb)\n",
    "  * [Coastline Evolution Model + Waves](cem_and_waves.ipynb)\n",
    "  * [ECSimpleSnow component](ecsimplesnow.ipynb)\n",
    "  <!--* [Geophysical Institute Permafrost Laboratory (GIPL) Model](gipl.ipynb)-->\n",
    "  <!--* [GIPL + ECSimpleSnow](gipl_and_ecsimplesnow.ipynb)-->\n",
    "  * [Frost Number Model](frost_number.ipynb)\n",
    "  * [HydroTrend Model](hydrotrend.ipynb)\n",
    "  * [HydroTrend Model for Ganges River Research](hydrotrend_Ganges.ipynb)\n",
    "  * [Kudryavtsev Model](ku.ipynb)\n",
    "  <!--* [Sedflux3D Model](sedflux3d.ipynb)-->\n",
    "  * [Flexural Subsidence Model](subside.ipynb)\n",
    "\n",
    "  \n"
   ]
  },
  {
   "cell_type": "code",
   "execution_count": null,
   "metadata": {},
   "outputs": [],
   "source": []
  }
 ],
 "metadata": {
  "kernelspec": {
   "display_name": "Python 3",
   "language": "python",
   "name": "python3"
  },
  "language_info": {
   "codemirror_mode": {
    "name": "ipython",
    "version": 3
   },
   "file_extension": ".py",
   "mimetype": "text/x-python",
   "name": "python",
   "nbconvert_exporter": "python",
   "pygments_lexer": "ipython3",
   "version": "3.7.3"
  }
 },
 "nbformat": 4,
 "nbformat_minor": 2
}
