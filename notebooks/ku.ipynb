{
 "cells": [
  {
   "cell_type": "markdown",
   "metadata": {},
   "source": [
    "## Kudryavtsev Model\n",
    "\n",
    "* Link to this notebook: https://github.com/csdms/pymt/blob/master/docs/demos/ku.ipynb\n",
    "* Install command: `$ conda install notebook pymt_permamodel`\n",
    "* Download local copy of notebook:\n",
    "\n",
    "  `$ curl -O https://raw.githubusercontent.com/csdms/pymt/master/docs/demos/ku.ipynb`\n",
    "\n",
    "### Introduction to Permafrost Processes - Lesson 2 Kudryavtsev Model\n",
    "\n",
    "This lab has been designed and developed by Irina Overeem and Mark Piper, CSDMS, University of Colorado, CO \n",
    "with assistance of Kang Wang, Scott Stewart at CSDMS, University of Colorado, CO, and Elchin Jafarov, at Los Alamos National Labs, NM. \n",
    "These labs are developed with support from NSF Grant 1503559, ‘Towards a Tiered Permafrost Modeling Cyberinfrastructure’ \n",
    "\n",
    "### Classroom organization\n",
    "\n",
    "This lab is the second in a series of introduction to permafrost process modeling, designed for inexperienced users. In this first lesson, we explore the Air Frost Number model and learn to use the CSDMS Python Modeling Toolkit ([PyMT](https://github.com/csdms/pymt)). We implemented a basic configuration of the Air Frost Number (as formulated by Nelson and Outcalt in 1987). This series of labs is designed for inexperienced modelers to gain some experience with running a numerical model, changing model inputs, and analyzing model output. Specifically, this first lab looks at what controls permafrost occurrence and compares the occurrence of permafrost in Russia. \n",
    "Basic theory on the Air Frost Number is presented in [Frost Number Model Lecture 1](https://csdms.colorado.edu/wiki/File:FrostNumberModel_Lecture1.pptx).\n",
    "\n",
    "This lab is the second in a series of introduction to permafrost process modeling, designed for inexperienced users. In this second lesson, we explore the Kudryavstev model and learn to use the CSDMS Python Modeling Toolkit ([PyMT](https://github.com/csdms/pymt)). We implemented the Kudryavstev model (as formulated in Anisimov et al.1997). It is dubbed the Ku-model. This series of labs is designed for inexperienced modelers to gain some experience with running a numerical model, changing model inputs, and analyzing model output. Specifically, this lab looks at what controls soil temperature and active layer thickness and compares model output with observed longterm data collected at permafrost active layer thickness monitoring sites in Fairbanks and Barrow, Alaska. \n",
    "Basic theory on the Kudryavstev model is presented in [Kudryavtsev Model Lecture 2](https://csdms.colorado.edu/wiki/File:KudryavtsevModel_Lecture2.pptx)\n",
    "\n",
    "This lab will likely take ~ 1,5 hours to complete in the classroom. This time assumes you are unfamiiar with the PyMT and need to learn setting parameters, saving runs, downloading data and looking at output (otherwise it will be much faster).\n",
    "\n",
    "We will use netcdf files for output, this is a standard output from all CSDMS models. If you have no experience with visualizing these files, Panoply software will be helpful. Find instructions on how to use this software.\n",
    "\n",
    "### Learning objectives\n",
    "\n",
    "#### Skills\n",
    "\n",
    "* familiarize with a basic configuration of the Kudryavstev Model for 1D (a single location).\n",
    "* hands-on experience with visualizing NetCDF time series with Panoply.\n",
    "* data to model comparisons and how to think about uncertainty in data and model output.\n",
    "\n",
    "#### Topical learning objectives:\n",
    "\n",
    "* what are controls on permafrost soil temperature\n",
    "* what is a steady-state model\n",
    "* what are important parameters for calculating active layer thickness\n",
    "* active layer thickness evolution with climate warming in two locations in Alaska\n",
    "\n",
    "### References and More information \n",
    "\n",
    "Anisimov, O. A., Shiklomanov, N. I., & Nelson, F. E. (1997). *Global warming and active-layer thickness: results from transient general circulation models.* Global and Planetary Change, 15(3-4), 61-77. DOI:10.1016/S0921-8181(97)00009-X  \n",
    "Sazonova, T.S., Romanovsky, V.E., 2003. *A model for regional-scale estimation of temporal and spatial variability of active layer thickness and mean nnaual ground emperatures.* Permafrost and periglacial processes 14, 125-139. DOI: 10.1002/ppp.449  \n",
    "Zhang, T., 2005. *Influence of the seasonal snow cover on the ground thermal regime: an overview.* Review of Geophysics, 43, RG4002.\n"
   ]
  },
  {
   "cell_type": "markdown",
   "metadata": {},
   "source": [
    "### The Kudryavtsev Model\n",
    "\n",
    "The Kudryavtsev et al. (1974), or *Ku* model, presents an\n",
    "approximate solution of the Stefan problem. The model provides a\n",
    "steady-state solution under the assumption of sinusoidal air\n",
    "temperature forcing. It considers snow, vegetation, and soil layers\n",
    "as thermal damping to variation of air temperature. The layer of\n",
    "soil is considered to be a homogeneous column with different thermal\n",
    "properties in the frozen and thawed states. The main outputs are\n",
    "annual maximum frozen/thaw depth and mean annual temperature at the\n",
    "top of permafrost (or at the base of the active layer). It can be\n",
    "applied over a wide variety of climatic conditions."
   ]
  },
  {
   "cell_type": "code",
   "execution_count": 1,
   "metadata": {},
   "outputs": [],
   "source": [
    "# Load standard Python modules\n",
    "import numpy as np\n",
    "import matplotlib.pyplot as plt"
   ]
  },
  {
   "cell_type": "code",
   "execution_count": 2,
   "metadata": {},
   "outputs": [
    {
     "name": "stderr",
     "output_type": "stream",
     "text": [
      "\u001b[33;01m➡ models: FrostNumber, Ku, Hydrotrend\u001b[39;49;00m\n"
     ]
    }
   ],
   "source": [
    "# Load PyMT model(s)\n",
    "import pymt.models\n",
    "ku = pymt.models.Ku()"
   ]
  },
  {
   "cell_type": "markdown",
   "metadata": {},
   "source": [
    "### Part 1\n",
    "\n",
    "We will run the Kudryatsev model for conditions in Barrow, Alaska in a very cold year, 1964. The mean annaul temperature for 1964 was -15.21C, the amplitude over that year was 18.51C. It was close to normal snow year, meaning the average snow thickness over this winter was 0.22m.\n",
    "\n",
    "Adapt the settings in the Ku model for Barrow 1964. Make sure you request an output file. Save the simulation settings and submit your simulation. Download the model results and open them in Panoply."
   ]
  },
  {
   "cell_type": "code",
   "execution_count": 3,
   "metadata": {},
   "outputs": [],
   "source": [
    "config_file, run_folder = ku.setup(T_air=-15.21, A_air=18.51)"
   ]
  },
  {
   "cell_type": "code",
   "execution_count": 4,
   "metadata": {},
   "outputs": [
    {
     "name": "stdout",
     "output_type": "stream",
     "text": [
      " \n",
      "Ku model component: Initializing...\n"
     ]
    }
   ],
   "source": [
    "ku.initialize(config_file, run_folder)"
   ]
  },
  {
   "cell_type": "code",
   "execution_count": 5,
   "metadata": {},
   "outputs": [],
   "source": [
    "ku.update()"
   ]
  },
  {
   "cell_type": "code",
   "execution_count": 6,
   "metadata": {},
   "outputs": [
    {
     "data": {
      "text/plain": [
       "('soil__temperature', 'soil__active_layer_thickness')"
      ]
     },
     "execution_count": 6,
     "metadata": {},
     "output_type": "execute_result"
    }
   ],
   "source": [
    "ku.output_var_names"
   ]
  },
  {
   "cell_type": "code",
   "execution_count": 7,
   "metadata": {},
   "outputs": [
    {
     "data": {
      "text/plain": [
       "array([ 0.25622575])"
      ]
     },
     "execution_count": 7,
     "metadata": {},
     "output_type": "execute_result"
    }
   ],
   "source": [
    "ku.get_value('soil__active_layer_thickness')"
   ]
  },
  {
   "cell_type": "markdown",
   "metadata": {},
   "source": [
    "#### Q1.1: What was the active layer thickness the model predicted? \n",
    "\n",
    "*Sketch a soil profile for winter conditions versus August conditions, indicate where the frozen-unfrozen boundary is in each two cases.*"
   ]
  },
  {
   "cell_type": "markdown",
   "metadata": {},
   "source": [
    "#### Q1.2: How do you think snow affects the active layer thickness predictions? "
   ]
  },
  {
   "cell_type": "markdown",
   "metadata": {},
   "source": [
    "### Part 2\n",
    "\n",
    "Run the Kudryatsev model with a range of snow conditions (0 m as the one extreme, and in extremely snowy years, the mean snow thickness over the winter is 0.4m in Barrow). Set these two simulations, run them and dowload the files."
   ]
  },
  {
   "cell_type": "code",
   "execution_count": 8,
   "metadata": {},
   "outputs": [],
   "source": [
    "args = ku.setup(h_snow=0.)"
   ]
  },
  {
   "cell_type": "code",
   "execution_count": 9,
   "metadata": {},
   "outputs": [
    {
     "name": "stdout",
     "output_type": "stream",
     "text": [
      " \n",
      "Ku model component: Initializing...\n"
     ]
    },
    {
     "data": {
      "text/plain": [
       "array([ 0.12506836])"
      ]
     },
     "execution_count": 9,
     "metadata": {},
     "output_type": "execute_result"
    }
   ],
   "source": [
    "ku.initialize(*args)\n",
    "ku.update()\n",
    "ku.get_value('soil__active_layer_thickness')"
   ]
  },
  {
   "cell_type": "code",
   "execution_count": 10,
   "metadata": {},
   "outputs": [],
   "source": [
    "args = ku.setup(h_snow=0.4)"
   ]
  },
  {
   "cell_type": "code",
   "execution_count": 11,
   "metadata": {},
   "outputs": [
    {
     "name": "stdout",
     "output_type": "stream",
     "text": [
      " \n",
      "Ku model component: Initializing...\n"
     ]
    },
    {
     "data": {
      "text/plain": [
       "array([ 0.29543607])"
      ]
     },
     "execution_count": 11,
     "metadata": {},
     "output_type": "execute_result"
    }
   ],
   "source": [
    "ku.initialize(*args)\n",
    "ku.update()\n",
    "ku.get_value('soil__active_layer_thickness')"
   ]
  },
  {
   "cell_type": "markdown",
   "metadata": {},
   "source": [
    "#### Q2.1: What happens if there is no snow at all (0 m)?  "
   ]
  },
  {
   "cell_type": "markdown",
   "metadata": {},
   "source": [
    "#### Q2.2: What is the active layer thickness prediction for a very snowy year?"
   ]
  },
  {
   "cell_type": "markdown",
   "metadata": {},
   "source": [
    "### Part 3\n",
    "\n",
    "Run the Kudryatsev model with a range of soil water contents. What happens if there is 20% more, and 20% less soil water content? "
   ]
  },
  {
   "cell_type": "code",
   "execution_count": 12,
   "metadata": {},
   "outputs": [
    {
     "name": "stdout",
     "output_type": "stream",
     "text": [
      " \n",
      "Ku model component: Initializing...\n"
     ]
    },
    {
     "data": {
      "text/plain": [
       "array([ 0.46966741])"
      ]
     },
     "execution_count": 12,
     "metadata": {},
     "output_type": "execute_result"
    }
   ],
   "source": [
    "args = ku.setup(vwc_H2O=0.2)\n",
    "ku.initialize(*args)\n",
    "ku.update()\n",
    "ku.get_value('soil__active_layer_thickness')"
   ]
  },
  {
   "cell_type": "code",
   "execution_count": 13,
   "metadata": {},
   "outputs": [
    {
     "name": "stdout",
     "output_type": "stream",
     "text": [
      " \n",
      "Ku model component: Initializing...\n"
     ]
    },
    {
     "data": {
      "text/plain": [
       "array([ 0.20328717])"
      ]
     },
     "execution_count": 13,
     "metadata": {},
     "output_type": "execute_result"
    }
   ],
   "source": [
    "args = ku.setup(vwc_H2O=0.6)\n",
    "ku.initialize(*args)\n",
    "ku.update()\n",
    "ku.get_value('soil__active_layer_thickness')"
   ]
  },
  {
   "cell_type": "markdown",
   "metadata": {},
   "source": [
    "#### Q3.1: Is this selected range of 20% realistic for soils in permafrost regions?"
   ]
  },
  {
   "cell_type": "markdown",
   "metadata": {},
   "source": [
    "#### Q3.2: From the theory presented in the associated lecture notes, how do you think soil water content in summer affects the soil temperature?"
   ]
  },
  {
   "cell_type": "markdown",
   "metadata": {},
   "source": [
    "### Part 4\n",
    "\n",
    "Posted here are time-series for climate conditions for both Barrow and Fairbanks, Alaska. Time-series are annual values and run from 1961-2015, the data include mean annual temperature (MAAT), temperature amplitude (TAMP) and winter-average snow depth (SD). \n",
    "\n",
    "These are text files, so you can plot them in your own favorite software or programming language.\n",
    "\n",
    "Choose which case you want to run, you will now run a 55 year simulation. "
   ]
  },
  {
   "cell_type": "code",
   "execution_count": 14,
   "metadata": {},
   "outputs": [
    {
     "data": {
      "text/html": [
       "<div>\n",
       "<style scoped>\n",
       "    .dataframe tbody tr th:only-of-type {\n",
       "        vertical-align: middle;\n",
       "    }\n",
       "\n",
       "    .dataframe tbody tr th {\n",
       "        vertical-align: top;\n",
       "    }\n",
       "\n",
       "    .dataframe thead th {\n",
       "        text-align: right;\n",
       "    }\n",
       "</style>\n",
       "<table border=\"1\" class=\"dataframe\">\n",
       "  <thead>\n",
       "    <tr style=\"text-align: right;\">\n",
       "      <th></th>\n",
       "      <th>atmosphere_bottom_air__temperature</th>\n",
       "      <th>snowpack__depth</th>\n",
       "      <th>atmosphere_bottom_air__temperature_amplitude</th>\n",
       "    </tr>\n",
       "  </thead>\n",
       "  <tbody>\n",
       "    <tr>\n",
       "      <th>0</th>\n",
       "      <td>-13.1980</td>\n",
       "      <td>0.29612</td>\n",
       "      <td>18.070</td>\n",
       "    </tr>\n",
       "    <tr>\n",
       "      <th>1</th>\n",
       "      <td>-10.7460</td>\n",
       "      <td>0.40822</td>\n",
       "      <td>15.538</td>\n",
       "    </tr>\n",
       "    <tr>\n",
       "      <th>2</th>\n",
       "      <td>-12.0420</td>\n",
       "      <td>0.27510</td>\n",
       "      <td>15.694</td>\n",
       "    </tr>\n",
       "    <tr>\n",
       "      <th>3</th>\n",
       "      <td>-15.2060</td>\n",
       "      <td>0.21657</td>\n",
       "      <td>18.519</td>\n",
       "    </tr>\n",
       "    <tr>\n",
       "      <th>4</th>\n",
       "      <td>-12.7290</td>\n",
       "      <td>0.24719</td>\n",
       "      <td>17.937</td>\n",
       "    </tr>\n",
       "    <tr>\n",
       "      <th>5</th>\n",
       "      <td>-13.1050</td>\n",
       "      <td>0.31827</td>\n",
       "      <td>16.743</td>\n",
       "    </tr>\n",
       "    <tr>\n",
       "      <th>6</th>\n",
       "      <td>-11.9630</td>\n",
       "      <td>0.21748</td>\n",
       "      <td>14.936</td>\n",
       "    </tr>\n",
       "    <tr>\n",
       "      <th>7</th>\n",
       "      <td>-12.2300</td>\n",
       "      <td>0.30102</td>\n",
       "      <td>18.760</td>\n",
       "    </tr>\n",
       "    <tr>\n",
       "      <th>8</th>\n",
       "      <td>-12.8220</td>\n",
       "      <td>0.19425</td>\n",
       "      <td>14.966</td>\n",
       "    </tr>\n",
       "    <tr>\n",
       "      <th>9</th>\n",
       "      <td>-13.8100</td>\n",
       "      <td>0.13143</td>\n",
       "      <td>15.582</td>\n",
       "    </tr>\n",
       "    <tr>\n",
       "      <th>10</th>\n",
       "      <td>-13.5130</td>\n",
       "      <td>0.18732</td>\n",
       "      <td>18.446</td>\n",
       "    </tr>\n",
       "    <tr>\n",
       "      <th>11</th>\n",
       "      <td>-11.9730</td>\n",
       "      <td>0.15719</td>\n",
       "      <td>17.352</td>\n",
       "    </tr>\n",
       "    <tr>\n",
       "      <th>12</th>\n",
       "      <td>-11.4160</td>\n",
       "      <td>0.17679</td>\n",
       "      <td>16.819</td>\n",
       "    </tr>\n",
       "    <tr>\n",
       "      <th>13</th>\n",
       "      <td>-14.6590</td>\n",
       "      <td>0.13256</td>\n",
       "      <td>19.600</td>\n",
       "    </tr>\n",
       "    <tr>\n",
       "      <th>14</th>\n",
       "      <td>-14.5800</td>\n",
       "      <td>0.11713</td>\n",
       "      <td>17.706</td>\n",
       "    </tr>\n",
       "    <tr>\n",
       "      <th>15</th>\n",
       "      <td>-13.1820</td>\n",
       "      <td>0.13403</td>\n",
       "      <td>17.032</td>\n",
       "    </tr>\n",
       "    <tr>\n",
       "      <th>16</th>\n",
       "      <td>-11.9150</td>\n",
       "      <td>0.13651</td>\n",
       "      <td>18.490</td>\n",
       "    </tr>\n",
       "    <tr>\n",
       "      <th>17</th>\n",
       "      <td>-11.8150</td>\n",
       "      <td>0.11480</td>\n",
       "      <td>15.015</td>\n",
       "    </tr>\n",
       "    <tr>\n",
       "      <th>18</th>\n",
       "      <td>-10.6390</td>\n",
       "      <td>0.14409</td>\n",
       "      <td>18.369</td>\n",
       "    </tr>\n",
       "    <tr>\n",
       "      <th>19</th>\n",
       "      <td>-13.0110</td>\n",
       "      <td>0.26898</td>\n",
       "      <td>14.569</td>\n",
       "    </tr>\n",
       "    <tr>\n",
       "      <th>20</th>\n",
       "      <td>-11.4870</td>\n",
       "      <td>0.21476</td>\n",
       "      <td>15.378</td>\n",
       "    </tr>\n",
       "    <tr>\n",
       "      <th>21</th>\n",
       "      <td>-12.6240</td>\n",
       "      <td>0.20555</td>\n",
       "      <td>13.965</td>\n",
       "    </tr>\n",
       "    <tr>\n",
       "      <th>22</th>\n",
       "      <td>-12.6220</td>\n",
       "      <td>0.14293</td>\n",
       "      <td>15.892</td>\n",
       "    </tr>\n",
       "    <tr>\n",
       "      <th>23</th>\n",
       "      <td>-13.7030</td>\n",
       "      <td>0.22695</td>\n",
       "      <td>20.533</td>\n",
       "    </tr>\n",
       "    <tr>\n",
       "      <th>24</th>\n",
       "      <td>-11.8990</td>\n",
       "      <td>0.15458</td>\n",
       "      <td>15.582</td>\n",
       "    </tr>\n",
       "    <tr>\n",
       "      <th>25</th>\n",
       "      <td>-11.5730</td>\n",
       "      <td>0.21264</td>\n",
       "      <td>16.559</td>\n",
       "    </tr>\n",
       "    <tr>\n",
       "      <th>26</th>\n",
       "      <td>-12.2460</td>\n",
       "      <td>0.16962</td>\n",
       "      <td>16.371</td>\n",
       "    </tr>\n",
       "    <tr>\n",
       "      <th>27</th>\n",
       "      <td>-13.1960</td>\n",
       "      <td>0.14131</td>\n",
       "      <td>14.778</td>\n",
       "    </tr>\n",
       "    <tr>\n",
       "      <th>28</th>\n",
       "      <td>-10.3150</td>\n",
       "      <td>0.10273</td>\n",
       "      <td>19.651</td>\n",
       "    </tr>\n",
       "    <tr>\n",
       "      <th>29</th>\n",
       "      <td>-12.2500</td>\n",
       "      <td>0.13156</td>\n",
       "      <td>18.200</td>\n",
       "    </tr>\n",
       "    <tr>\n",
       "      <th>30</th>\n",
       "      <td>-12.3860</td>\n",
       "      <td>0.16138</td>\n",
       "      <td>15.561</td>\n",
       "    </tr>\n",
       "    <tr>\n",
       "      <th>31</th>\n",
       "      <td>-12.4260</td>\n",
       "      <td>0.20460</td>\n",
       "      <td>16.663</td>\n",
       "    </tr>\n",
       "    <tr>\n",
       "      <th>32</th>\n",
       "      <td>-10.1710</td>\n",
       "      <td>0.25866</td>\n",
       "      <td>16.030</td>\n",
       "    </tr>\n",
       "    <tr>\n",
       "      <th>33</th>\n",
       "      <td>-12.6540</td>\n",
       "      <td>0.19272</td>\n",
       "      <td>17.039</td>\n",
       "    </tr>\n",
       "    <tr>\n",
       "      <th>34</th>\n",
       "      <td>-10.8840</td>\n",
       "      <td>0.18241</td>\n",
       "      <td>15.829</td>\n",
       "    </tr>\n",
       "    <tr>\n",
       "      <th>35</th>\n",
       "      <td>-10.7770</td>\n",
       "      <td>0.20000</td>\n",
       "      <td>16.246</td>\n",
       "    </tr>\n",
       "    <tr>\n",
       "      <th>36</th>\n",
       "      <td>-10.8590</td>\n",
       "      <td>0.21331</td>\n",
       "      <td>16.514</td>\n",
       "    </tr>\n",
       "    <tr>\n",
       "      <th>37</th>\n",
       "      <td>-8.3704</td>\n",
       "      <td>0.27506</td>\n",
       "      <td>16.460</td>\n",
       "    </tr>\n",
       "    <tr>\n",
       "      <th>38</th>\n",
       "      <td>-12.0090</td>\n",
       "      <td>0.20172</td>\n",
       "      <td>17.097</td>\n",
       "    </tr>\n",
       "    <tr>\n",
       "      <th>39</th>\n",
       "      <td>-11.7880</td>\n",
       "      <td>0.21672</td>\n",
       "      <td>15.049</td>\n",
       "    </tr>\n",
       "    <tr>\n",
       "      <th>40</th>\n",
       "      <td>-11.9360</td>\n",
       "      <td>0.22167</td>\n",
       "      <td>15.094</td>\n",
       "    </tr>\n",
       "    <tr>\n",
       "      <th>41</th>\n",
       "      <td>-10.2210</td>\n",
       "      <td>0.20364</td>\n",
       "      <td>15.873</td>\n",
       "    </tr>\n",
       "    <tr>\n",
       "      <th>42</th>\n",
       "      <td>-10.6170</td>\n",
       "      <td>0.21123</td>\n",
       "      <td>15.742</td>\n",
       "    </tr>\n",
       "    <tr>\n",
       "      <th>43</th>\n",
       "      <td>-10.7650</td>\n",
       "      <td>0.19760</td>\n",
       "      <td>18.626</td>\n",
       "    </tr>\n",
       "    <tr>\n",
       "      <th>44</th>\n",
       "      <td>-10.2960</td>\n",
       "      <td>0.19101</td>\n",
       "      <td>15.298</td>\n",
       "    </tr>\n",
       "    <tr>\n",
       "      <th>45</th>\n",
       "      <td>-10.3720</td>\n",
       "      <td>0.30262</td>\n",
       "      <td>15.869</td>\n",
       "    </tr>\n",
       "    <tr>\n",
       "      <th>46</th>\n",
       "      <td>-9.2930</td>\n",
       "      <td>0.23780</td>\n",
       "      <td>16.801</td>\n",
       "    </tr>\n",
       "    <tr>\n",
       "      <th>47</th>\n",
       "      <td>-10.3920</td>\n",
       "      <td>0.33321</td>\n",
       "      <td>15.573</td>\n",
       "    </tr>\n",
       "    <tr>\n",
       "      <th>48</th>\n",
       "      <td>-10.3220</td>\n",
       "      <td>0.30025</td>\n",
       "      <td>16.576</td>\n",
       "    </tr>\n",
       "    <tr>\n",
       "      <th>49</th>\n",
       "      <td>-9.8188</td>\n",
       "      <td>0.24259</td>\n",
       "      <td>16.425</td>\n",
       "    </tr>\n",
       "    <tr>\n",
       "      <th>50</th>\n",
       "      <td>-9.9858</td>\n",
       "      <td>0.20182</td>\n",
       "      <td>14.382</td>\n",
       "    </tr>\n",
       "    <tr>\n",
       "      <th>51</th>\n",
       "      <td>-10.5200</td>\n",
       "      <td>0.23746</td>\n",
       "      <td>18.571</td>\n",
       "    </tr>\n",
       "    <tr>\n",
       "      <th>52</th>\n",
       "      <td>-9.7723</td>\n",
       "      <td>0.13755</td>\n",
       "      <td>17.405</td>\n",
       "    </tr>\n",
       "    <tr>\n",
       "      <th>53</th>\n",
       "      <td>-9.5018</td>\n",
       "      <td>0.14255</td>\n",
       "      <td>12.495</td>\n",
       "    </tr>\n",
       "    <tr>\n",
       "      <th>54</th>\n",
       "      <td>-9.9350</td>\n",
       "      <td>0.12133</td>\n",
       "      <td>14.319</td>\n",
       "    </tr>\n",
       "  </tbody>\n",
       "</table>\n",
       "</div>"
      ],
      "text/plain": [
       "    atmosphere_bottom_air__temperature  snowpack__depth  \\\n",
       "0                             -13.1980          0.29612   \n",
       "1                             -10.7460          0.40822   \n",
       "2                             -12.0420          0.27510   \n",
       "3                             -15.2060          0.21657   \n",
       "4                             -12.7290          0.24719   \n",
       "5                             -13.1050          0.31827   \n",
       "6                             -11.9630          0.21748   \n",
       "7                             -12.2300          0.30102   \n",
       "8                             -12.8220          0.19425   \n",
       "9                             -13.8100          0.13143   \n",
       "10                            -13.5130          0.18732   \n",
       "11                            -11.9730          0.15719   \n",
       "12                            -11.4160          0.17679   \n",
       "13                            -14.6590          0.13256   \n",
       "14                            -14.5800          0.11713   \n",
       "15                            -13.1820          0.13403   \n",
       "16                            -11.9150          0.13651   \n",
       "17                            -11.8150          0.11480   \n",
       "18                            -10.6390          0.14409   \n",
       "19                            -13.0110          0.26898   \n",
       "20                            -11.4870          0.21476   \n",
       "21                            -12.6240          0.20555   \n",
       "22                            -12.6220          0.14293   \n",
       "23                            -13.7030          0.22695   \n",
       "24                            -11.8990          0.15458   \n",
       "25                            -11.5730          0.21264   \n",
       "26                            -12.2460          0.16962   \n",
       "27                            -13.1960          0.14131   \n",
       "28                            -10.3150          0.10273   \n",
       "29                            -12.2500          0.13156   \n",
       "30                            -12.3860          0.16138   \n",
       "31                            -12.4260          0.20460   \n",
       "32                            -10.1710          0.25866   \n",
       "33                            -12.6540          0.19272   \n",
       "34                            -10.8840          0.18241   \n",
       "35                            -10.7770          0.20000   \n",
       "36                            -10.8590          0.21331   \n",
       "37                             -8.3704          0.27506   \n",
       "38                            -12.0090          0.20172   \n",
       "39                            -11.7880          0.21672   \n",
       "40                            -11.9360          0.22167   \n",
       "41                            -10.2210          0.20364   \n",
       "42                            -10.6170          0.21123   \n",
       "43                            -10.7650          0.19760   \n",
       "44                            -10.2960          0.19101   \n",
       "45                            -10.3720          0.30262   \n",
       "46                             -9.2930          0.23780   \n",
       "47                            -10.3920          0.33321   \n",
       "48                            -10.3220          0.30025   \n",
       "49                             -9.8188          0.24259   \n",
       "50                             -9.9858          0.20182   \n",
       "51                            -10.5200          0.23746   \n",
       "52                             -9.7723          0.13755   \n",
       "53                             -9.5018          0.14255   \n",
       "54                             -9.9350          0.12133   \n",
       "\n",
       "    atmosphere_bottom_air__temperature_amplitude  \n",
       "0                                         18.070  \n",
       "1                                         15.538  \n",
       "2                                         15.694  \n",
       "3                                         18.519  \n",
       "4                                         17.937  \n",
       "5                                         16.743  \n",
       "6                                         14.936  \n",
       "7                                         18.760  \n",
       "8                                         14.966  \n",
       "9                                         15.582  \n",
       "10                                        18.446  \n",
       "11                                        17.352  \n",
       "12                                        16.819  \n",
       "13                                        19.600  \n",
       "14                                        17.706  \n",
       "15                                        17.032  \n",
       "16                                        18.490  \n",
       "17                                        15.015  \n",
       "18                                        18.369  \n",
       "19                                        14.569  \n",
       "20                                        15.378  \n",
       "21                                        13.965  \n",
       "22                                        15.892  \n",
       "23                                        20.533  \n",
       "24                                        15.582  \n",
       "25                                        16.559  \n",
       "26                                        16.371  \n",
       "27                                        14.778  \n",
       "28                                        19.651  \n",
       "29                                        18.200  \n",
       "30                                        15.561  \n",
       "31                                        16.663  \n",
       "32                                        16.030  \n",
       "33                                        17.039  \n",
       "34                                        15.829  \n",
       "35                                        16.246  \n",
       "36                                        16.514  \n",
       "37                                        16.460  \n",
       "38                                        17.097  \n",
       "39                                        15.049  \n",
       "40                                        15.094  \n",
       "41                                        15.873  \n",
       "42                                        15.742  \n",
       "43                                        18.626  \n",
       "44                                        15.298  \n",
       "45                                        15.869  \n",
       "46                                        16.801  \n",
       "47                                        15.573  \n",
       "48                                        16.576  \n",
       "49                                        16.425  \n",
       "50                                        14.382  \n",
       "51                                        18.571  \n",
       "52                                        17.405  \n",
       "53                                        12.495  \n",
       "54                                        14.319  "
      ]
     },
     "execution_count": 14,
     "metadata": {},
     "output_type": "execute_result"
    }
   ],
   "source": [
    "import pandas\n",
    "data = pandas.read_csv(\"https://raw.githubusercontent.com/mcflugen/pymt_ku/master/data/Barrow_1961-2015.csv\")\n",
    "data"
   ]
  },
  {
   "cell_type": "code",
   "execution_count": 15,
   "metadata": {},
   "outputs": [],
   "source": [
    "maat = data[\"atmosphere_bottom_air__temperature\"]\n",
    "tamp = data[\"atmosphere_bottom_air__temperature_amplitude\"]\n",
    "snow_depth = data[\"snowpack__depth\"]"
   ]
  },
  {
   "cell_type": "code",
   "execution_count": 16,
   "metadata": {},
   "outputs": [
    {
     "name": "stdout",
     "output_type": "stream",
     "text": [
      " \n",
      "Ku model component: Initializing...\n"
     ]
    }
   ],
   "source": [
    "ku = pymt.models.Ku()\n",
    "args = ku.setup(end_year=2050)\n",
    "ku.initialize(*args)"
   ]
  },
  {
   "cell_type": "code",
   "execution_count": 17,
   "metadata": {},
   "outputs": [],
   "source": [
    "n_steps = int((ku.end_time - ku.time) / ku.time_step)\n",
    "thickness = np.empty(n_steps)\n",
    "for i in range(n_steps):\n",
    "    ku.set_value(\"atmosphere_bottom_air__temperature\", maat.values[i])\n",
    "    ku.set_value(\"atmosphere_bottom_air__temperature_amplitude\", tamp.values[i])\n",
    "    ku.set_value(\"snowpack__depth\", snow_depth.values[i])\n",
    "    ku.update()\n",
    "    thickness[i] = ku.get_value('soil__active_layer_thickness')"
   ]
  },
  {
   "cell_type": "code",
   "execution_count": 18,
   "metadata": {},
   "outputs": [
    {
     "data": {
      "text/plain": [
       "[<matplotlib.lines.Line2D at 0x2b15ade5e400>]"
      ]
     },
     "execution_count": 18,
     "metadata": {},
     "output_type": "execute_result"
    },
    {
     "data": {
      "image/png": "[encoded data removed]",
      "text/plain": [
       "<Figure size 432x288 with 1 Axes>"
      ]
     },
     "metadata": {
      "needs_background": "light"
     },
     "output_type": "display_data"
    }
   ],
   "source": [
    "plt.plot(thickness) # This should be the same as the above but it's NOT! But now it is. BOOM!"
   ]
  },
  {
   "cell_type": "code",
   "execution_count": null,
   "metadata": {},
   "outputs": [],
   "source": []
  }
 ],
 "metadata": {
  "kernelspec": {
   "display_name": "Python 3",
   "language": "python",
   "name": "python3"
  },
  "language_info": {
   "codemirror_mode": {
    "name": "ipython",
    "version": 3
   },
   "file_extension": ".py",
   "mimetype": "text/x-python",
   "name": "python",
   "nbconvert_exporter": "python",
   "pygments_lexer": "ipython3",
   "version": "3.6.0"
  }
 },
 "nbformat": 4,
 "nbformat_minor": 2
}
