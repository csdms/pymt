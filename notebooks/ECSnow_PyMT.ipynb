{
 "cells": [
  {
   "cell_type": "markdown",
   "metadata": {},
   "source": [
    "# ECSimpleSnow component\n",
    "\n",
    "ECSimpleSnow is an empirical algorithm to melt snow according to the surface temperature and increase snow depth according to the precipitation that has fallen since the last time step.\n",
    "\n",
    "## Details: \n",
    "\n",
    "**Brown, R. D., Brasnett, B., & Robinson, D. (2003). Gridded North American monthly snow depth and snow water equivalent for GCM evaluation. Atmosphere-Ocean, 41(1), 1-14.**\n",
    "\n",
    "**URL:** https://www.tandfonline.com/doi/abs/10.3137/ao.410101\n",
    "\n",
    "## Source code in Fortran:\n",
    "\n",
    "**URL:** https://github.com/permamodel/Snow_BMI_Fortran\n",
    "\n",
    "## For this Notebook\n",
    "\n",
    "Before you begin, install:\n",
    "```\n",
    "conda install -c conda-forge pymt pymt_ecsimplesnow numpy scipy\n",
    "```\n"
   ]
  },
  {
   "cell_type": "markdown",
   "metadata": {},
   "source": [
    "### load module"
   ]
  },
  {
   "cell_type": "code",
   "execution_count": 1,
   "metadata": {},
   "outputs": [
    {
     "name": "stderr",
     "output_type": "stream",
     "text": [
      "\u001b[33;01m➡ models: FrostNumber, Ku, Hydrotrend, ECSimpleSnow, Cem, Waves\u001b[39;49;00m\n"
     ]
    }
   ],
   "source": [
    "import numpy as np\n",
    "import matplotlib.pyplot as plt\n",
    "from scipy.optimize import curve_fit\n",
    "\n",
    "# Load PyMT model(s)\n",
    "import pymt.models\n",
    "ec = pymt.models.ECSimpleSnow()"
   ]
  },
  {
   "cell_type": "markdown",
   "metadata": {},
   "source": [
    "### load example configuration and inputs"
   ]
  },
  {
   "cell_type": "code",
   "execution_count": 2,
   "metadata": {
    "collapsed": true
   },
   "outputs": [],
   "source": [
    "#Call setup to get default config and data files.\n",
    "defaults = ec.setup('.')\n",
    "print(defaults)\n",
    "\n",
    "cfg_filename = defaults[0]\n",
    "\n",
    "%cat $cfg_filename"
   ]
  },
  {
   "cell_type": "markdown",
   "metadata": {},
   "source": [
    "### initialize by using default example data"
   ]
  },
  {
   "cell_type": "code",
   "execution_count": 10,
   "metadata": {},
   "outputs": [
    {
     "name": "stdout",
     "output_type": "stream",
     "text": [
      "('snowpack__depth', 'snowpack__mass-per-volume_density')\n",
      "('precipitation_mass_flux', 'land_surface_air__temperature', 'precipitation_mass_flux_adjust_factor', 'snow_class', 'open_area_or_not', 'snowpack__initial_depth', 'snowpack__initial_mass-per-volume_density')\n"
     ]
    }
   ],
   "source": [
    "# Initialize the model with the defaults.\n",
    "ec.initialize('snow_model.cfg')\n",
    "ec.set_value('snow_class',2)\n",
    "ec.set_value('open_area_or_not', 1)\n",
    "\n",
    "# List input and output variable names.\n",
    "print(ec.get_output_var_names())\n",
    "print(ec.get_input_var_names())"
   ]
  },
  {
   "cell_type": "markdown",
   "metadata": {},
   "source": [
    "### Implement the simple snow model for the first year as an example"
   ]
  },
  {
   "cell_type": "code",
   "execution_count": 12,
   "metadata": {},
   "outputs": [
    {
     "name": "stdout",
     "output_type": "stream",
     "text": [
      "Air Temperature Unit: C\n",
      "Snow Depth Unit: cm\n",
      "Snow Density Unit: kg per m3\n"
     ]
    },
    {
     "data": {
      "image/png": "[encoded data removed]",
      "text/plain": [
       "<Figure size 288x648 with 3 Axes>"
      ]
     },
     "metadata": {
      "needs_background": "light"
     },
     "output_type": "display_data"
    }
   ],
   "source": [
    "plt.figure(figsize=[4,9])\n",
    "h0 = plt.subplot(3,1,1)\n",
    "h1 = plt.subplot(3,1,2)\n",
    "h2 = plt.subplot(3,1,3)\n",
    "\n",
    "h0.title.set_text('Snow Depth')\n",
    "h1.title.set_text('Snow Density')\n",
    "h2.title.set_text('Air Temperature')\n",
    "\n",
    "print('Air Temperature Unit:', ec.get_var_units('land_surface_air__temperature'))\n",
    "print('Snow Depth Unit:'     , ec.get_var_units('snowpack__depth'))\n",
    "print('Snow Density Unit:'   , ec.get_var_units('snowpack__mass-per-volume_density'))\n",
    "\n",
    "for i in np.arange(365):\n",
    "    \n",
    "    ec.update()\n",
    "    \n",
    "    tair  = ec.get_value('land_surface_air__temperature')    \n",
    "    snd   = ec.get_value('snowpack__depth', units='m')\n",
    "    rsn   = ec.get_value('snowpack__mass-per-volume_density')\n",
    "    \n",
    "    units = ec.get_var_units('snowpack__depth')\n",
    "    \n",
    "    h0.scatter(ec.time, snd, c='k')    \n",
    "    h1.scatter(ec.time, rsn, c='k')\n",
    "    h2.scatter(ec.time,tair, c='k')\n",
    "    \n",
    "    \n",
    "# ec.finalize()"
   ]
  },
  {
   "cell_type": "markdown",
   "metadata": {},
   "source": [
    "### Comparison with Observations at Barrow"
   ]
  },
  {
   "cell_type": "markdown",
   "metadata": {},
   "source": [
    "![Comparison](https://github.com/permamodel/Snow_BMI_Fortran/blob/master/data/Barrow.png?raw=true)"
   ]
  },
  {
   "cell_type": "code",
   "execution_count": null,
   "metadata": {
    "collapsed": true
   },
   "outputs": [],
   "source": []
  }
 ],
 "metadata": {
  "kernelspec": {
   "display_name": "Python 3",
   "language": "python",
   "name": "python3"
  },
  "language_info": {
   "codemirror_mode": {
    "name": "ipython",
    "version": 3
   },
   "file_extension": ".py",
   "mimetype": "text/x-python",
   "name": "python",
   "nbconvert_exporter": "python",
   "pygments_lexer": "ipython3",
   "version": "3.7.4"
  }
 },
 "nbformat": 4,
 "nbformat_minor": 2
}
