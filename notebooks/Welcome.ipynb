{
 "cells": [
  {
   "cell_type": "markdown",
   "metadata": {},
   "source": [
    "# Welcome to Pymt demo Notebooks\n",
    "\n",
    "This page provides links to notebooks that provide an introduction to Pymt and its use for different models. \n",
    "\n",
    "  * [Coastline Evolution Model](cem.ipynb)\n",
    "  * [Coastline Evolution Model + Waves](cem_and_waves.ipynb)\n",
    "  * [ECSimpleSnow component](ECSnow_PyMT.ipynb)\n",
    "  * [Geophysical Institute Permafrost Laboratory (GIPL) Model](Example_01_Basic_Use_GIPL.ipynb)\n",
    "  * [GIPL + ECSimpleSnow](Example_02_GIPL_ECSimpleSnow.ipynb)\n",
    "  * [Frost Number Model](frost_number.ipynb)\n",
    "  * [HydroTrend Model](hydrotrend.ipynb)\n",
    "  * [Kudryavtsev Model](ku.ipynb)\n",
    "  * [Sedflux3D Model](sedflux3d.ipynb)\n",
    "  * [Flexural Subsidence Model](subside.ipynb)\n",
    "\n",
    "  \n"
   ]
  }
 ],
 "metadata": {
  "kernelspec": {
   "display_name": "Python 3",
   "language": "python",
   "name": "python3"
  },
  "language_info": {
   "codemirror_mode": {
    "name": "ipython",
    "version": 3
   },
   "file_extension": ".py",
   "mimetype": "text/x-python",
   "name": "python",
   "nbconvert_exporter": "python",
   "pygments_lexer": "ipython3",
   "version": "3.7.3"
  }
 },
 "nbformat": 4,
 "nbformat_minor": 2
}
