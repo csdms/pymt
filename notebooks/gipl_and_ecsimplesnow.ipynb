{
 "cells": [
  {
   "cell_type": "markdown",
   "metadata": {},
   "source": [
    "### Coupling GIPL and ECSimpleSnow models\n",
    "\n",
    "Before you begin, install:\n",
    "\n",
    "```conda install -c conda-forge pymt pymt_gipl pymt_ecsimplesnow seaborn```"
   ]
  },
  {
   "cell_type": "code",
   "execution_count": null,
   "metadata": {},
   "outputs": [],
   "source": [
    "import matplotlib.colors as mcolors\n",
    "import matplotlib.pyplot as plt\n",
    "import numpy as np\n",
    "import seaborn as sns\n",
    "from matplotlib.colors import LinearSegmentedColormap\n",
    "\n",
    "import pymt.models\n",
    "\n",
    "sns.set(style=\"whitegrid\", font_scale=1.2)"
   ]
  },
  {
   "cell_type": "markdown",
   "metadata": {},
   "source": [
    "#### Load ECSimpleSnow module from PyMT"
   ]
  },
  {
   "cell_type": "code",
   "execution_count": null,
   "metadata": {},
   "outputs": [],
   "source": [
    "ec = pymt.models.ECSimpleSnow()\n",
    "print(ec.name)\n",
    "\n",
    "# List input and output variable names.\n",
    "print(ec.output_var_names)\n",
    "print(ec.input_var_names)"
   ]
  },
  {
   "cell_type": "markdown",
   "metadata": {},
   "source": [
    "#### Load GIPL module from PyMT"
   ]
  },
  {
   "cell_type": "code",
   "execution_count": null,
   "metadata": {},
   "outputs": [],
   "source": [
    "gipl = pymt.models.GIPL()\n",
    "print(gipl.name)\n",
    "\n",
    "# List input and output variable names.\n",
    "print(gipl.output_var_names)\n",
    "print(gipl.input_var_names)"
   ]
  },
  {
   "cell_type": "markdown",
   "metadata": {},
   "source": [
    "Call the setup method on both ECSimpleSnow and GIPL to get default configuration files and data."
   ]
  },
  {
   "cell_type": "code",
   "execution_count": null,
   "metadata": {},
   "outputs": [],
   "source": [
    "ec_defaults = ec.setup(\".\")\n",
    "print(ec_defaults)\n",
    "\n",
    "gipl_defaults = gipl.setup(\".\")\n",
    "print(gipl_defaults)"
   ]
  },
  {
   "cell_type": "code",
   "execution_count": null,
   "metadata": {},
   "outputs": [],
   "source": [
    "ec.initialize(\"snow_model.cfg\")"
   ]
  },
  {
   "cell_type": "code",
   "execution_count": null,
   "metadata": {},
   "outputs": [],
   "source": [
    "gipl.initialize(\"gipl_config.cfg\")"
   ]
  },
  {
   "cell_type": "code",
   "execution_count": null,
   "metadata": {},
   "outputs": [],
   "source": [
    "# Get soil depth: [unit: m]\n",
    "depth = gipl.get_grid_z(2)\n",
    "n_depth = int(len(depth))"
   ]
  },
  {
   "cell_type": "code",
   "execution_count": null,
   "metadata": {},
   "outputs": [],
   "source": [
    "# Get the length of forcing data:\n",
    "ntime = int(gipl.end_time)\n",
    "\n",
    "# Define a variable to store soil temperature through the time period\n",
    "\n",
    "tsoil = np.zeros((n_depth, ntime)) * np.nan\n",
    "\n",
    "print(\"Final soil temperatures will be \", tsoil.shape)"
   ]
  },
  {
   "cell_type": "code",
   "execution_count": null,
   "metadata": {},
   "outputs": [],
   "source": [
    "fig = plt.figure(figsize=[12, 6])\n",
    "\n",
    "ax2 = fig.add_subplot(2, 3, 1)\n",
    "ax2.set_title(\"Air Temperature (Input)\")\n",
    "\n",
    "ax3 = fig.add_subplot(2, 3, 2)\n",
    "ax3.set_title(\"Precipition (Input)\")\n",
    "\n",
    "ax4 = fig.add_subplot(2, 3, 4)\n",
    "ax4.set_title(\"Snow Depth (EC Output)\")\n",
    "\n",
    "ax5 = fig.add_subplot(2, 3, 5)\n",
    "ax5.set_title(\"Snow Density (EC Output)\")\n",
    "\n",
    "ax1 = fig.add_subplot(2, 3, (3, 6))\n",
    "ax1.set_ylim([15, 0])\n",
    "ax1.set_xlim([-20, 20])\n",
    "ax1.set_xlabel(\"Soil Temperature ($^oC$)\")\n",
    "ax1.set_ylabel(\"Depth (m)\")\n",
    "ax1.plot([0, 0], [15, 0], \"k--\")\n",
    "\n",
    "for i in np.arange(365):\n",
    "\n",
    "    ec.update()  # Update Snow Model Once\n",
    "\n",
    "    # Get output from snow model\n",
    "    tair = ec.get_value(\"land_surface_air__temperature\")\n",
    "    prec = ec.get_value(\"precipitation_mass_flux\")\n",
    "    snd = ec.get_value(\"snowpack__depth\", units=\"m\")\n",
    "    rsn = ec.get_value(\"snowpack__mass-per-volume_density\", units=\"g cm-3\")\n",
    "\n",
    "    # Pass value to GIPL model\n",
    "    gipl.set_value(\"land_surface_air__temperature\", tair)\n",
    "    gipl.set_value(\"snowpack__depth\", snd)\n",
    "    gipl.set_value(\"snow__thermal_conductivity\", rsn * rsn * 2.846)\n",
    "\n",
    "    gipl.update()  # Update GIPL model Once\n",
    "\n",
    "    tsoil[:, i] = gipl.get_value(\"soil__temperature\")  # Save results to a matrix\n",
    "\n",
    "    ax1.plot(tsoil[depth >= 0, i], depth[depth >= 0], color=[0.7, 0.7, 0.7], alpha=0.1)\n",
    "\n",
    "    ax2.scatter(i, tair, c=\"k\")\n",
    "    ax3.scatter(i, prec, c=\"k\")\n",
    "    ax4.scatter(i, snd, c=\"k\")\n",
    "    ax5.scatter(i, rsn, c=\"k\")\n",
    "\n",
    "ax1.plot(\n",
    "    tsoil[depth >= 0, :].max(axis=1), depth[depth >= 0], \"r\", linewidth=2, label=\"Max\"\n",
    ")\n",
    "ax1.plot(\n",
    "    tsoil[depth >= 0, :].min(axis=1), depth[depth >= 0], \"b\", linewidth=2, label=\"Min\"\n",
    ")\n",
    "ax1.plot(\n",
    "    tsoil[depth >= 0, :].mean(axis=1), depth[depth >= 0], \"k\", linewidth=2, label=\"Mean\"\n",
    ")\n",
    "ax1.legend()\n",
    "ax1.set_title(\"Ground Temperatures (GIPL output)\")\n",
    "\n",
    "ax2.set_xticks([])\n",
    "ax3.set_xticks([])"
   ]
  },
  {
   "cell_type": "code",
   "execution_count": null,
   "metadata": {},
   "outputs": [],
   "source": [
    "fig = plt.figure(figsize=[9, 4])\n",
    "divnorm = mcolors.TwoSlopeNorm(vmin=-25.0, vcenter=0.0, vmax=10)\n",
    "plt.contourf(\n",
    "    np.arange(ntime),\n",
    "    depth,\n",
    "    tsoil,\n",
    "    np.linspace(-25, 10, 15),\n",
    "    norm=divnorm,\n",
    "    cmap=\"RdBu_r\",\n",
    "    extend=\"both\",\n",
    ")\n",
    "\n",
    "plt.ylim([5, 0])\n",
    "cb = plt.colorbar()\n",
    "plt.xlabel(\"Day\")\n",
    "plt.ylabel(\"Depth (m)\")\n",
    "cb.ax.set_ylabel(\"Soil Temperature ($^oC$)\")\n",
    "\n",
    "plt.contour(np.arange(ntime), depth, tsoil, [0])  # ZERO"
   ]
  },
  {
   "cell_type": "code",
   "execution_count": null,
   "metadata": {},
   "outputs": [],
   "source": []
  }
 ],
 "metadata": {
  "kernelspec": {
   "display_name": "Python 3",
   "language": "python",
   "name": "python3"
  },
  "language_info": {
   "codemirror_mode": {
    "name": "ipython",
    "version": 3
   },
   "file_extension": ".py",
   "mimetype": "text/x-python",
   "name": "python",
   "nbconvert_exporter": "python",
   "pygments_lexer": "ipython3",
   "version": "3.9.1"
  }
 },
 "nbformat": 4,
 "nbformat_minor": 2
}
